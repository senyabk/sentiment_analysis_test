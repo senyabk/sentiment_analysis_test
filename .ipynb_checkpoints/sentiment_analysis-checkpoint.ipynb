{
 "cells": [
  {
   "cell_type": "code",
   "execution_count": 3,
   "id": "dd509bab",
   "metadata": {},
   "outputs": [],
   "source": [
    "# Импорт основных библиотек\n",
    "import os\n",
    "import re\n",
    "import pandas as pd\n",
    "import numpy as np\n",
    "import seaborn as sns\n",
    "import matplotlib.pyplot as plt\n",
    "%matplotlib inline \n",
    "\n",
    "# Библиотека для обработки языка\n",
    "from nltk.tokenize import word_tokenize\n",
    "from nltk.stem import WordNetLemmatizer\n",
    "\n",
    "# Библиотека для машинного обучения (векторизация, модели и метрики классификации, GridSearch)\n",
    "from sklearn.feature_extraction.text import  TfidfVectorizer\n",
    "from sklearn.svm import LinearSVC\n",
    "from sklearn.linear_model import LogisticRegression\n",
    "from sklearn.metrics import classification_report, confusion_matrix, ConfusionMatrixDisplay\n",
    "from sklearn.model_selection import GridSearchCV\n",
    "from sklearn.ensemble import RandomForestClassifier\n",
    "\n",
    "# Библиотека для (де)сериализации моделей\n",
    "import pickle \n",
    "\n",
    "# Отключение предупреждений\n",
    "import warnings\n",
    "warnings.filterwarnings('ignore')"
   ]
  },
  {
   "cell_type": "code",
   "execution_count": 4,
   "id": "1e6734ae",
   "metadata": {},
   "outputs": [],
   "source": [
    "# Объединение файлов с отзывами\n",
    "def merge_files(path, label):\n",
    "    result = []\n",
    "    files = [f for f in os.listdir(path)]\n",
    "    for file in files:\n",
    "        with open(path+file, \"r\", encoding='utf8') as f:\n",
    "            review_id = int(' '.join(re.findall(r'([\\d]+)_', file)))\n",
    "            review_rate = ' '.join(re.findall(r'_([\\d]+).', file))\n",
    "            result.append([review_id, f.read(), review_rate, label])\n",
    "    return result"
   ]
  },
  {
   "cell_type": "code",
   "execution_count": null,
   "id": "08787653",
   "metadata": {
    "scrolled": true
   },
   "outputs": [],
   "source": [
    "pos_train_files = merge_files('C:/aclImdb/train/pos/', 1)\n",
    "neg_train_files = merge_files('C:/aclImdb/train/neg/', 0)\n",
    "\n",
    "pos_test_files = merge_files('C:/aclImdb/test/pos/', 1)\n",
    "neg_test_files = merge_files('C:/aclImdb/test/neg/', 0)"
   ]
  },
  {
   "cell_type": "code",
   "execution_count": null,
   "id": "81ec1f67",
   "metadata": {},
   "outputs": [],
   "source": [
    "# Формирование датафреймов\n",
    "df_train_pos = pd.DataFrame(pos_train_files, columns=['index', 'text', 'rate', 'label'])\n",
    "df_train_pos.set_index('index', inplace=True)\n",
    "df_train_neg = pd.DataFrame(neg_train_files, columns=['index', 'text', 'rate', 'label'])\n",
    "df_train_neg.set_index('index', inplace=True)\n",
    "\n",
    "df_test_pos = pd.DataFrame(pos_test_files, columns=['index', 'text', 'rate', 'label'])\n",
    "df_test_pos.set_index('index', inplace=True)\n",
    "df_test_neg = pd.DataFrame(neg_test_files, columns=['index', 'text', 'rate', 'label'])\n",
    "df_test_neg.set_index('index', inplace=True)"
   ]
  },
  {
   "cell_type": "code",
   "execution_count": null,
   "id": "381d37b8",
   "metadata": {},
   "outputs": [],
   "source": [
    "# Добавление ссылок на фильмы\n",
    "urls_train_pos = pd.read_csv('C:/aclImdb/train/urls_pos.txt', header=None, names=['link'])\n",
    "urls_train_neg = pd.read_csv('C:/aclImdb/train/urls_neg.txt', header=None, names=['link'])\n",
    "urls_test_pos = pd.read_csv('C:/aclImdb/test/urls_pos.txt', header=None, names=['link'])\n",
    "urls_test_neg = pd.read_csv('C:/aclImdb/test/urls_neg.txt', header=None, names=['link'])\n",
    "\n",
    "df_train_pos = df_train_pos.join(urls_train_pos)\n",
    "df_train_neg = df_train_neg.join(urls_train_neg)\n",
    "df_test_pos = df_test_pos.join(urls_test_pos)\n",
    "df_test_neg = df_test_neg.join(urls_test_neg)"
   ]
  },
  {
   "cell_type": "code",
   "execution_count": null,
   "id": "5e06f6fb",
   "metadata": {},
   "outputs": [],
   "source": [
    "# Объединение отзывов в обучающий и тестовый датафреймы\n",
    "df_train = pd.concat([df_train_pos, df_train_neg], ignore_index=True)\n",
    "df_test = pd.concat([df_test_pos, df_test_neg], ignore_index=True)"
   ]
  },
  {
   "cell_type": "code",
   "execution_count": null,
   "id": "1f65732e",
   "metadata": {},
   "outputs": [],
   "source": [
    "df_train['rate'] = df_train['rate'].astype(int)\n",
    "df_test['rate'] = df_test['rate'].astype(int)"
   ]
  },
  {
   "cell_type": "code",
   "execution_count": null,
   "id": "5c8ca8b1",
   "metadata": {},
   "outputs": [],
   "source": [
    "df_train.head()"
   ]
  },
  {
   "cell_type": "code",
   "execution_count": null,
   "id": "e71ab515",
   "metadata": {},
   "outputs": [],
   "source": [
    "# Нулевые элементы\n",
    "df_train.isnull().sum()"
   ]
  },
  {
   "cell_type": "code",
   "execution_count": null,
   "id": "8dbfdd1a",
   "metadata": {},
   "outputs": [],
   "source": [
    "print('Размер обучающей выборки: ', len(df_train))\n",
    "print('Количество уникальных фильмов: ', len(df_train['link'].unique()))\n",
    "print('Возможные оценки: ', sorted(df_train['rate'].unique()))"
   ]
  },
  {
   "cell_type": "code",
   "execution_count": null,
   "id": "08bc6b1c",
   "metadata": {},
   "outputs": [],
   "source": [
    "print('Пример отзыва: ', df_train.text[1])"
   ]
  },
  {
   "cell_type": "code",
   "execution_count": null,
   "id": "d859815c",
   "metadata": {},
   "outputs": [],
   "source": [
    "df_train['rate'].value_counts()"
   ]
  },
  {
   "cell_type": "code",
   "execution_count": null,
   "id": "a80f7bd1",
   "metadata": {},
   "outputs": [],
   "source": [
    "# Анализ длины отзывов в символах\n",
    "df_train['text'].str.len().describe()"
   ]
  },
  {
   "cell_type": "code",
   "execution_count": null,
   "id": "e0504075",
   "metadata": {
    "scrolled": false
   },
   "outputs": [],
   "source": [
    "# Распределение меток классов в выборках\n",
    "plt.figure(figsize=(12, 7))\n",
    "\n",
    "plt.subplot(1, 2, 1)\n",
    "plt.hist(df_train['rate'])\n",
    "plt.title('Распределение меток в тренировочной выборке')\n",
    "plt.xticks(np.arange(1,11))\n",
    "\n",
    "plt.subplot(1, 2, 2)\n",
    "plt.hist(df_test['rate'])\n",
    "plt.title('Распределение меток в тестовой выборке')\n",
    "plt.xticks(np.arange(1,11))\n",
    "\n",
    "plt.show()"
   ]
  },
  {
   "cell_type": "code",
   "execution_count": null,
   "id": "b5cb2d4b",
   "metadata": {},
   "outputs": [],
   "source": [
    "#Балансировка классов\n",
    "df_train_und = df_train.groupby('rate', as_index=False).apply(lambda array: array.loc[np.random.choice(array.index, \n",
    "                                                                                                       2263, False),:])"
   ]
  },
  {
   "cell_type": "code",
   "execution_count": null,
   "id": "3c34dbc9",
   "metadata": {},
   "outputs": [],
   "source": [
    "# Функция для предобработки текста - удаление тегов и лишних символов\n",
    "def text_preprocessor(text):\n",
    "    text = re.sub(re.compile('<.*?>'), '', text)\n",
    "    text =  re.sub('[^A-Za-z0-9]+', ' ', text)\n",
    "    return text.lower()\n",
    "\n",
    "\n",
    "# Функция лемматизации\n",
    "def text_lemmatizer(text):\n",
    "    lemmatizer = WordNetLemmatizer()\n",
    "    tokens = word_tokenize(text)\n",
    "    return [lemmatizer.lemmatize(t) for t in tokens]"
   ]
  },
  {
   "cell_type": "code",
   "execution_count": null,
   "id": "761b460c",
   "metadata": {},
   "outputs": [],
   "source": [
    "# Векторизация\n",
    "vectorizer =  TfidfVectorizer(tokenizer=text_lemmatizer, preprocessor=text_preprocessor,\n",
    "                              ngram_range=(1,3), min_df=5, max_df=95)\n",
    "\n",
    "X_train = vectorizer.fit_transform(df_train_und['text'].tolist())\n",
    "y_train = np.array(df_train_und['rate'].tolist(), dtype=np.int64)\n",
    "\n",
    "X_test = vectorizer.transform(df_test['text'].tolist())\n",
    "y_test = np.array(df_test['rate'].tolist(), dtype=np.int64)"
   ]
  },
  {
   "cell_type": "markdown",
   "id": "8a77b6bb",
   "metadata": {},
   "source": [
    "Далее на обработанной тренировочной выборке обучаются модели LinearSVC, LogisticRegression, RandomForestClassifier с предварительным подбором гиперпараметров"
   ]
  },
  {
   "cell_type": "code",
   "execution_count": null,
   "id": "3f4fe3c7",
   "metadata": {},
   "outputs": [],
   "source": [
    "# Подбор гиперпараметров LinearSVC\n",
    "#parameters_svc = {'C': [0.001, 0.01, 0.1, 1, 10], 'penalty': ['l1', 'l2'], 'loss': ['hinge', 'squared_hinge'],\n",
    "#              'multi_class': ['ovr', 'crammer_singer']}\n",
    "#grid_svc = GridSearchCV(LinearSVC(), parameters_svc, cv=5)\n",
    "#grid_svc.fit(X_train, y_train)\n",
    "#print(\"Best cross-validation score: {:.2f}\".format(grid.best_score_))\n",
    "#print(\"Best parameters: \", grid.best_params_)\n",
    "#print(\"Best estimator: \", grid.best_estimator_)"
   ]
  },
  {
   "cell_type": "code",
   "execution_count": null,
   "id": "ebeb388a",
   "metadata": {},
   "outputs": [],
   "source": [
    "# LinearSVC\n",
    "classifier_svc =  LinearSVC(C=0.1, random_state=12345)\n",
    "\n",
    "classifier_svc.fit(X_train, y_train)\n",
    "\n",
    "y_pred_train = classifier_svc.predict(X_train)\n",
    "y_pred_test = classifier_svc.predict(X_test)\n",
    "y_pred_test_class = np.around(y_pred_test)"
   ]
  },
  {
   "cell_type": "code",
   "execution_count": null,
   "id": "10ce95ce",
   "metadata": {
    "scrolled": true
   },
   "outputs": [],
   "source": [
    "# Отчет об ошибках LinearSVC\n",
    "report_svc = classification_report(y_test.astype('int'), y_pred_test_class.astype('int'), labels=[1,2,3,4,7,8,9,10])\n",
    "print(report_svc)\n",
    "\n",
    "cm_svc = confusion_matrix(y_test.astype('int'), y_pred_test_class.astype('int'), labels=[1,2,3,4,7,8,9,10])\n",
    "\n",
    "ax = plt.subplot()\n",
    "sns.heatmap(cm_svc, annot=True, fmt='g', ax=ax)\n",
    "ax.set_xlabel('Predicted labels')\n",
    "ax.set_ylabel('True labels') \n",
    "ax.set_title('Confusion Matrix')\n",
    "ax.xaxis.set_ticklabels([1,2,3,4,7,8,9,10])\n",
    "ax.yaxis.set_ticklabels([1,2,3,4,7,8,9,10])"
   ]
  },
  {
   "cell_type": "code",
   "execution_count": null,
   "id": "532294ec",
   "metadata": {
    "scrolled": true
   },
   "outputs": [],
   "source": [
    "# Подбор гиперпараметров LogisticRegression()\n",
    "#parameters_logreg = {'C': [0.001, 0.01, 0.1, 1, 10], 'penalty': ['l1', 'l2', 'elasticnet'],  \n",
    "#              'multi_class': ['ovr', 'crammer_singer'], \n",
    "#              'solver': ['lbfgs', 'liblinear', 'newton-cg', 'newton-cholesky', 'sag', 'saga']}\n",
    "#grid_logreg = GridSearchCV(LogisticRegression(), parameters_logreg, cv=5, verbose=10)\n",
    "#grid_logreg.fit(X_train, y_train)"
   ]
  },
  {
   "cell_type": "code",
   "execution_count": null,
   "id": "2d27ede1",
   "metadata": {},
   "outputs": [],
   "source": [
    "#print(\"Best cross-validation score: {:.2f}\".format(grid_logreg.best_score_))\n",
    "#print(\"Best parameters: \", grid_logreg.best_params_)\n",
    "#print(\"Best estimator: \", grid_logreg.best_estimator_)"
   ]
  },
  {
   "cell_type": "code",
   "execution_count": null,
   "id": "1513c757",
   "metadata": {},
   "outputs": [],
   "source": [
    "# LogisticRegression()\n",
    "classifier_logreg = LogisticRegression(C=1, multi_class='ovr', random_state=12345)\n",
    "classifier_logreg.fit(X_train, y_train)\n",
    "\n",
    "y_pred_train = classifier_logreg.predict(X_train)\n",
    "y_pred_test = classifier_logreg.predict(X_test)\n",
    "y_pred_test_class = np.around(y_pred_test)"
   ]
  },
  {
   "cell_type": "code",
   "execution_count": null,
   "id": "7a8a2361",
   "metadata": {},
   "outputs": [],
   "source": [
    "# Отчет об ошибках LogisticRegression()\n",
    "report_logreg = classification_report(y_test.astype('int'), y_pred_test_class.astype('int'), labels=[1,2,3,4,7,8,9,10])\n",
    "print(report_logreg)\n",
    "\n",
    "cm_logreg = confusion_matrix(y_test.astype('int'), y_pred_test_class.astype('int'), labels=[1,2,3,4,7,8,9,10])\n",
    "\n",
    "ax = plt.subplot()\n",
    "sns.heatmap(cm_logreg, annot=True, fmt='g', ax=ax)\n",
    "ax.set_xlabel('Predicted labels')\n",
    "ax.set_ylabel('True labels') \n",
    "ax.set_title('Confusion Matrix')\n",
    "ax.xaxis.set_ticklabels([1,2,3,4,7,8,9,10])\n",
    "ax.yaxis.set_ticklabels([1,2,3,4,7,8,9,10])"
   ]
  },
  {
   "cell_type": "code",
   "execution_count": null,
   "id": "4714c0d8",
   "metadata": {
    "scrolled": true
   },
   "outputs": [],
   "source": [
    "# Подбор гиперпараметров RandomForestClassifier()\n",
    "parameters_rforest = {'n_estimators': [400, 500, 600], \n",
    "              'max_depth': [20, 30, 40],  \n",
    "              'criterion': ['log_loss']}\n",
    "grid_rforest = GridSearchCV(RandomForestClassifier(), parameters_rforest, cv=5, verbose=10)\n",
    "grid_rforest.fit(X_train, y_train)\n",
    "print(\"Best cross-validation score: {:.2f}\".format(grid_rforest.best_score_))\n",
    "print(\"Best parameters: \", grid_rforest.best_params_)\n",
    "print(\"Best estimator: \", grid_rforest.best_estimator_)"
   ]
  },
  {
   "cell_type": "code",
   "execution_count": 32,
   "id": "c2a2745f",
   "metadata": {},
   "outputs": [],
   "source": [
    "# RandomForestClassifier()\n",
    "classifier_rforest = RandomForestClassifier(criterion='log_loss', max_depth=30, n_estimators=600)\n",
    "classifier_rforest.fit(X_train, y_train)\n",
    "\n",
    "y_pred_train = classifier_rforest.predict(X_train)\n",
    "y_pred_test = classifier_rforest.predict(X_test)\n",
    "y_pred_test_class = np.around(y_pred_test)"
   ]
  },
  {
   "cell_type": "code",
   "execution_count": 33,
   "id": "ef30863f",
   "metadata": {},
   "outputs": [
    {
     "name": "stdout",
     "output_type": "stream",
     "text": [
      "              precision    recall  f1-score   support\n",
      "\n",
      "           1       0.53      0.64      0.58      5022\n",
      "           2       0.22      0.16      0.18      2302\n",
      "           3       0.28      0.21      0.24      2541\n",
      "           4       0.31      0.23      0.27      2635\n",
      "           7       0.25      0.31      0.28      2307\n",
      "           8       0.23      0.27      0.25      2850\n",
      "           9       0.20      0.25      0.22      2344\n",
      "          10       0.49      0.43      0.46      4999\n",
      "\n",
      "    accuracy                           0.36     25000\n",
      "   macro avg       0.31      0.31      0.31     25000\n",
      "weighted avg       0.35      0.36      0.35     25000\n",
      "\n"
     ]
    },
    {
     "data": {
      "text/plain": [
       "[Text(0, 0.5, '1'),\n",
       " Text(0, 1.5, '2'),\n",
       " Text(0, 2.5, '3'),\n",
       " Text(0, 3.5, '4'),\n",
       " Text(0, 4.5, '7'),\n",
       " Text(0, 5.5, '8'),\n",
       " Text(0, 6.5, '9'),\n",
       " Text(0, 7.5, '10')]"
      ]
     },
     "execution_count": 33,
     "metadata": {},
     "output_type": "execute_result"
    },
    {
     "data": {
      "image/png": "[encoded data removed]",
      "text/plain": [
       "<Figure size 640x480 with 2 Axes>"
      ]
     },
     "metadata": {},
     "output_type": "display_data"
    }
   ],
   "source": [
    "# Отчет об ошибках RandomForestClassifier()\n",
    "report_rforest = classification_report(y_test.astype('int'), y_pred_test_class.astype('int'), labels=[1,2,3,4,7,8,9,10])\n",
    "print(report_rforest)\n",
    "\n",
    "cm_rforest = confusion_matrix(y_test.astype('int'), y_pred_test_class.astype('int'), labels=[1,2,3,4,7,8,9,10])\n",
    "\n",
    "ax = plt.subplot()\n",
    "sns.heatmap(cm_rforest, annot=True, fmt='g', ax=ax)\n",
    "ax.set_xlabel('Predicted labels')\n",
    "ax.set_ylabel('True labels') \n",
    "ax.set_title('Confusion Matrix')\n",
    "ax.xaxis.set_ticklabels([1,2,3,4,7,8,9,10])\n",
    "ax.yaxis.set_ticklabels([1,2,3,4,7,8,9,10])"
   ]
  },
  {
   "cell_type": "code",
   "execution_count": 2,
   "id": "31c5b402",
   "metadata": {},
   "outputs": [
    {
     "ename": "NameError",
     "evalue": "name 'pickle' is not defined",
     "output_type": "error",
     "traceback": [
      "\u001b[1;31m---------------------------------------------------------------------------\u001b[0m",
      "\u001b[1;31mNameError\u001b[0m                                 Traceback (most recent call last)",
      "Cell \u001b[1;32mIn[2], line 4\u001b[0m\n\u001b[0;32m      2\u001b[0m vectorizer_filename \u001b[38;5;241m=\u001b[39m \u001b[38;5;124m\"\u001b[39m\u001b[38;5;124m/models/vectorizer.pkl\u001b[39m\u001b[38;5;124m\"\u001b[39m \n\u001b[0;32m      3\u001b[0m \u001b[38;5;28;01mwith\u001b[39;00m \u001b[38;5;28mopen\u001b[39m(vectorizer_filename, \u001b[38;5;124m'\u001b[39m\u001b[38;5;124mwb\u001b[39m\u001b[38;5;124m'\u001b[39m) \u001b[38;5;28;01mas\u001b[39;00m file: \n\u001b[1;32m----> 4\u001b[0m     \u001b[43mpickle\u001b[49m\u001b[38;5;241m.\u001b[39mdump(vectorizer, file) \n\u001b[0;32m      6\u001b[0m model_filename \u001b[38;5;241m=\u001b[39m \u001b[38;5;124m\"\u001b[39m\u001b[38;5;124m/models/model.pkl\u001b[39m\u001b[38;5;124m\"\u001b[39m \n\u001b[0;32m      7\u001b[0m \u001b[38;5;28;01mwith\u001b[39;00m \u001b[38;5;28mopen\u001b[39m(model_filename, \u001b[38;5;124m'\u001b[39m\u001b[38;5;124mwb\u001b[39m\u001b[38;5;124m'\u001b[39m) \u001b[38;5;28;01mas\u001b[39;00m file: \n",
      "\u001b[1;31mNameError\u001b[0m: name 'pickle' is not defined"
     ]
    }
   ],
   "source": [
    "# Запись векторизатора и лучшей модели в файл\n",
    "vectorizer_filename = \"/models/vectorizer.pkl\" \n",
    "with open(vectorizer_filename, 'wb') as file: \n",
    "    pickle.dump(vectorizer, file) \n",
    "    \n",
    "model_filename = \"/models/model.pkl\" \n",
    "with open(model_filename, 'wb') as file: \n",
    "    pickle.dump(classifier_svc, file) \n",
    "\n",
    "with open(vectorizer_filename, 'rb') as file: \n",
    "    pickle_vectorizer = pickle.load(file) \n",
    "\n",
    "with open(model_filename, 'rb') as file: \n",
    "    pickle_model = pickle.load(file) "
   ]
  },
  {
   "cell_type": "code",
   "execution_count": null,
   "id": "bd52dd65",
   "metadata": {},
   "outputs": [],
   "source": [
    "txt = ['''This movie was sadly under-promoted but proved to be truly exceptional. \n",
    "      Entering the theatre I knew nothing about the film except that a friend wanted to see it.<br /><br />\n",
    "      I was caught off guard with the high quality of the film. I couldn't image Ashton Kutcher in a serious role, \n",
    "       but his performance truly exemplified his character. This movie is exceptional and deserves our monetary support,\n",
    "       unlike so many other movies. It does not come lightly for me to recommend any movie, but in this case I highly \n",
    "       recommend that everyone see it.<br /><br />This films is Truly Exceptional!''']\n",
    "x_pred = pickle_vectorizer.transform(txt)\n",
    "pickle_model.predict(x_pred)"
   ]
  },
  {
   "cell_type": "code",
   "execution_count": 39,
   "id": "570a38f3",
   "metadata": {},
   "outputs": [
    {
     "data": {
      "text/plain": [
       "array([1], dtype=int64)"
      ]
     },
     "execution_count": 39,
     "metadata": {},
     "output_type": "execute_result"
    }
   ],
   "source": [
    "txxxt = ['so very very bad']\n",
    "x_pred = vectorizer.transform(txxxt)\n",
    "classifier_logreg.predict(x_pred)"
   ]
  },
  {
   "cell_type": "code",
   "execution_count": null,
   "id": "e469e4da",
   "metadata": {},
   "outputs": [],
   "source": []
  }
 ],
 "metadata": {
  "kernelspec": {
   "display_name": "Python 3 (ipykernel)",
   "language": "python",
   "name": "python3"
  },
  "language_info": {
   "codemirror_mode": {
    "name": "ipython",
    "version": 3
   },
   "file_extension": ".py",
   "mimetype": "text/x-python",
   "name": "python",
   "nbconvert_exporter": "python",
   "pygments_lexer": "ipython3",
   "version": "3.10.9"
  }
 },
 "nbformat": 4,
 "nbformat_minor": 5
}
